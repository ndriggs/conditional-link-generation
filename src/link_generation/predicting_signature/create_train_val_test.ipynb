{
 "cells": [
  {
   "cell_type": "code",
   "execution_count": 1,
   "metadata": {},
   "outputs": [],
   "source": [
    "import numpy as np\n",
    "import matplotlib.pyplot as plt\n",
    "from sklearn.preprocessing import StandardScaler, MinMaxScaler\n",
    "from sklearn.model_selection import train_test_split\n",
    "import json"
   ]
  },
  {
   "cell_type": "code",
   "execution_count": 2,
   "metadata": {},
   "outputs": [],
   "source": [
    "data = np.load('lk_and_sig.npy')"
   ]
  },
  {
   "cell_type": "code",
   "execution_count": 3,
   "metadata": {},
   "outputs": [
    {
     "name": "stdout",
     "output_type": "stream",
     "text": [
      "-38.0\n",
      "40.0\n"
     ]
    }
   ],
   "source": [
    "print(data[:,-1].min())\n",
    "print(data[:,-1].max()) # min and max signature in dataset"
   ]
  },
  {
   "cell_type": "code",
   "execution_count": 4,
   "metadata": {},
   "outputs": [
    {
     "data": {
      "image/png": "[encoded data removed]",
      "text/plain": [
       "<Figure size 640x480 with 1 Axes>"
      ]
     },
     "metadata": {},
     "output_type": "display_data"
    }
   ],
   "source": [
    "plt.hist(data[:,-1],bins=79)\n",
    "plt.show()"
   ]
  },
  {
   "cell_type": "code",
   "execution_count": 20,
   "metadata": {},
   "outputs": [],
   "source": [
    "indexes_to_keep = []\n",
    "for signature in range(-37, 38) : # these are the signatures with at least 7 data points\n",
    "    sig_indexes = np.where(data[:,-1]==signature)[0]\n",
    "    indexes_to_keep.extend(list(np.random.choice(sig_indexes, size=min(1400, len(sig_indexes)), replace=False)))"
   ]
  },
  {
   "cell_type": "code",
   "execution_count": 21,
   "metadata": {},
   "outputs": [
    {
     "data": {
      "image/png": "[encoded data removed]",
      "text/plain": [
       "<Figure size 640x480 with 1 Axes>"
      ]
     },
     "metadata": {},
     "output_type": "display_data"
    }
   ],
   "source": [
    "plt.hist(data[indexes_to_keep,-1],bins=75)\n",
    "plt.show()"
   ]
  },
  {
   "cell_type": "code",
   "execution_count": 22,
   "metadata": {},
   "outputs": [],
   "source": [
    "with open(\"braid_words.txt\", \"r\") as f :\n",
    "    braid_words = json.load(f)\n",
    "braid_words = [braid_words[i] for i in indexes_to_keep]"
   ]
  },
  {
   "cell_type": "code",
   "execution_count": 23,
   "metadata": {},
   "outputs": [],
   "source": [
    "data = data[indexes_to_keep]\n",
    "\n",
    "# Split the data into train and test+validation sets\n",
    "X_train, X_temp, y_train, y_temp = train_test_split(data[:,:-1], data[:,-1], test_size=0.2, random_state=42)\n",
    "braid_train, braid_temp, y_train_braid, y_temp_braid = train_test_split(braid_words, data[:,-1], test_size=0.2, random_state=42)\n",
    "\n",
    "# Split the test+validation set into test and validation sets\n",
    "X_test, X_val, y_test, y_val = train_test_split(X_temp, y_temp, test_size=0.5, random_state=42)\n",
    "braid_test, braid_val, braid_test_y, braid_val_y = train_test_split(braid_temp, y_temp_braid, test_size=0.5, random_state=42)"
   ]
  },
  {
   "cell_type": "code",
   "execution_count": 24,
   "metadata": {},
   "outputs": [],
   "source": [
    "# save the targets \n",
    "np.save('y_train.npy', y_train)\n",
    "np.save('y_test.npy', y_test)\n",
    "np.save('y_val.npy', y_val)"
   ]
  },
  {
   "cell_type": "code",
   "execution_count": 25,
   "metadata": {},
   "outputs": [],
   "source": [
    "# fit the scaler on the clipped train data\n",
    "train_clipped = np.clip(X_train, a_min=-100, a_max=100)\n",
    "scaler1 = StandardScaler()\n",
    "scaler1.fit(train_clipped)\n",
    "\n",
    "# transform all datasets\n",
    "train_normalized = scaler1.transform(train_clipped)\n",
    "test_normalized = scaler1.transform(np.clip(X_test, a_min=-100, a_max=100))\n",
    "val_normalized = scaler1.transform(np.clip(X_val, a_min=-100, a_max=100))\n",
    "\n",
    "# save the datasets \n",
    "np.save('clip_then_normalize_train.npy', train_normalized)\n",
    "np.save('clip_then_normalize_test.npy', test_normalized)\n",
    "np.save('clip_then_normalize_val.npy', val_normalized)\n",
    "\n",
    "# save scaler mean and scale\n",
    "np.save('clip_mean.npy', scaler1.mean_)\n",
    "np.save('clip_scale.npy', scaler1.scale_)"
   ]
  },
  {
   "cell_type": "code",
   "execution_count": 26,
   "metadata": {},
   "outputs": [],
   "source": [
    "# different preprocessing approach: abs, +1, then log, then clip, then minmax scale\n",
    "log_abs_train = np.log1p(np.abs(X_train))\n",
    "clipped_log_abs_train = np.clip(log_abs_train, a_min=np.zeros(log_abs_train.shape[1]), a_max=np.percentile(log_abs_train, 98, axis=0))\n",
    "scaler2 = MinMaxScaler()\n",
    "scaler2.fit(clipped_log_abs_train)\n",
    "\n",
    "# transform all datasets\n",
    "train_log_scaled = scaler2.transform(clipped_log_abs_train)\n",
    "log_abs_test = np.log1p(np.abs(X_test))\n",
    "clipped_log_abs_test = np.clip(log_abs_test, a_min=np.zeros(log_abs_test.shape[1]), a_max=np.percentile(log_abs_test, 98, axis=0))\n",
    "test_log_scaled = scaler2.transform(clipped_log_abs_test)\n",
    "log_abs_val = np.log1p(np.abs(X_val))\n",
    "clipped_log_abs_val = np.clip(log_abs_val, a_min=np.zeros(log_abs_val.shape[1]), a_max=np.percentile(log_abs_val, 98, axis=0))\n",
    "val_log_scaled = scaler2.transform(clipped_log_abs_val)\n",
    "\n",
    "# save the new datasets\n",
    "np.save('train_log_scaled.npy', train_log_scaled)\n",
    "np.save('test_log_scaled.npy', test_log_scaled)\n",
    "np.save('val_log_scaled.npy', val_log_scaled)\n",
    "\n",
    "# save the train feature max (min is 0)\n",
    "np.save('clipped_log_train_max.npy', np.percentile(log_abs_train, 98, axis=0))"
   ]
  },
  {
   "cell_type": "code",
   "execution_count": 27,
   "metadata": {},
   "outputs": [],
   "source": [
    "# save the braids\n",
    "def save_braids(braids, train_val_or_test) :\n",
    "    with open(f\"{train_val_or_test}_braids.txt\", 'w') as f:\n",
    "        json.dump(braids, f)\n",
    "\n",
    "save_braids(braid_train, 'train')\n",
    "save_braids(braid_val, 'val')\n",
    "save_braids(braid_test, 'test')"
   ]
  }
 ],
 "metadata": {
  "kernelspec": {
   "display_name": "knotenv",
   "language": "python",
   "name": "python3"
  },
  "language_info": {
   "codemirror_mode": {
    "name": "ipython",
    "version": 3
   },
   "file_extension": ".py",
   "mimetype": "text/x-python",
   "name": "python",
   "nbconvert_exporter": "python",
   "pygments_lexer": "ipython3",
   "version": "3.11.1"
  }
 },
 "nbformat": 4,
 "nbformat_minor": 2
}
